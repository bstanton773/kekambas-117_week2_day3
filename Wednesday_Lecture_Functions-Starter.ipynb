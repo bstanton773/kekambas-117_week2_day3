{
 "cells": [
  {
   "cell_type": "markdown",
   "metadata": {},
   "source": [
    "# Functions"
   ]
  },
  {
   "cell_type": "markdown",
   "metadata": {},
   "source": [
    "#### Warm up"
   ]
  },
  {
   "cell_type": "code",
   "execution_count": 32,
   "metadata": {},
   "outputs": [
    {
     "name": "stdout",
     "output_type": "stream",
     "text": [
      "['The Beatles', 'The Rolling Stones', 'The Eagles', 'The Temptations']\n"
     ]
    }
   ],
   "source": [
    "bands1 = ['  thE beATles   ', 'tHe RoLLing sTones..', '.,tHe eagles', 'the tEMptationS  ']\n",
    "\n",
    "fixed_bands1 = [band.strip(' .,').title() for band in bands1]\n",
    "print(fixed_bands1)"
   ]
  },
  {
   "cell_type": "code",
   "execution_count": 33,
   "metadata": {},
   "outputs": [],
   "source": [
    "# Output: ['The Beatles', 'The Rolling Stones', etc]"
   ]
  },
  {
   "cell_type": "code",
   "execution_count": 34,
   "metadata": {},
   "outputs": [
    {
     "name": "stdout",
     "output_type": "stream",
     "text": [
      "['The Who', 'The Doors', 'The Band', 'The Kinks']\n"
     ]
    }
   ],
   "source": [
    "bands2 = [' The whO  ', '  .   , tHE dOORS  ', ' the bAnd   ', '...,  THE kINks    ']\n",
    "\n",
    "fixed_bands2 = [band.strip(' .,').title() for band in bands2]\n",
    "\n",
    "print(fixed_bands2)"
   ]
  },
  {
   "cell_type": "markdown",
   "metadata": {},
   "source": [
    "## Functions"
   ]
  },
  {
   "cell_type": "code",
   "execution_count": null,
   "metadata": {},
   "outputs": [],
   "source": [
    "# DRY principle\n",
    "# DONT\n",
    "# REPEAT\n",
    "# YOURSELF"
   ]
  },
  {
   "cell_type": "markdown",
   "metadata": {},
   "source": [
    "##### User-Defined vs. Built-In Function"
   ]
  },
  {
   "cell_type": "code",
   "execution_count": 36,
   "metadata": {},
   "outputs": [
    {
     "name": "stdout",
     "output_type": "stream",
     "text": [
      "<built-in function max>\n",
      "Help on built-in function max in module builtins:\n",
      "\n",
      "max(...)\n",
      "    max(iterable, *[, default=obj, key=func]) -> value\n",
      "    max(arg1, arg2, *args, *[, key=func]) -> value\n",
      "    \n",
      "    With a single iterable argument, return its biggest item. The\n",
      "    default keyword-only argument specifies an object to return if\n",
      "    the provided iterable is empty.\n",
      "    With two or more arguments, return the largest argument.\n",
      "\n"
     ]
    }
   ],
   "source": [
    "# Built-in functions\n",
    "print(max)\n",
    "help(max)"
   ]
  },
  {
   "cell_type": "code",
   "execution_count": 37,
   "metadata": {},
   "outputs": [],
   "source": [
    "# User Defined Function\n",
    "# Syntax: def function_name():\n",
    "#             <CODE TO EXECUTE WHEN CALLED>\n",
    "\n",
    "# Creating a function\n",
    "def say_hello():\n",
    "    print('Hello World!')\n",
    "    "
   ]
  },
  {
   "cell_type": "code",
   "execution_count": 39,
   "metadata": {},
   "outputs": [
    {
     "name": "stdout",
     "output_type": "stream",
     "text": [
      "<function say_hello at 0x000001FE667939A0>\n"
     ]
    },
    {
     "data": {
      "text/plain": [
       "<function __main__.say_hello()>"
      ]
     },
     "execution_count": 39,
     "metadata": {},
     "output_type": "execute_result"
    }
   ],
   "source": [
    "print(say_hello)\n",
    "say_hello"
   ]
  },
  {
   "cell_type": "code",
   "execution_count": 40,
   "metadata": {},
   "outputs": [
    {
     "name": "stdout",
     "output_type": "stream",
     "text": [
      "Help on function say_hello in module __main__:\n",
      "\n",
      "say_hello()\n",
      "    # Creating a function\n",
      "\n"
     ]
    }
   ],
   "source": [
    "help(say_hello)"
   ]
  },
  {
   "cell_type": "code",
   "execution_count": 43,
   "metadata": {},
   "outputs": [
    {
     "name": "stdout",
     "output_type": "stream",
     "text": [
      "Hello World!\n"
     ]
    }
   ],
   "source": [
    "# Executing a function\n",
    "# Syntax: function_name()\n",
    "\n",
    "say_hello() # Executing the function - don't forget the ()!"
   ]
  },
  {
   "cell_type": "markdown",
   "metadata": {},
   "source": [
    "##### Accepting Parameters"
   ]
  },
  {
   "cell_type": "code",
   "execution_count": 57,
   "metadata": {},
   "outputs": [
    {
     "name": "stdout",
     "output_type": "stream",
     "text": [
      "Hello Brian Stanton! How are you doing today?\n"
     ]
    }
   ],
   "source": [
    "# Syntax: def function_name(param1, param2):\n",
    "#             <CODE TO EXECUTE with variable param1 and param2>\n",
    "def say_hello_again(first, last): # <- first and last are parameters (aka placeholders)\n",
    "    print(f\"Hello {first} {last}! How are you doing today?\")\n",
    "\n",
    "    \n",
    "# Execute\n",
    "# Syntax: function_name(data1, data2)\n",
    "say_hello_again(\"Brian\", \"Stanton\")"
   ]
  },
  {
   "cell_type": "code",
   "execution_count": 58,
   "metadata": {},
   "outputs": [
    {
     "name": "stdout",
     "output_type": "stream",
     "text": [
      "Hello Kevin Beier! How are you doing today?\n"
     ]
    }
   ],
   "source": [
    "say_hello_again('Kevin', 'Beier')"
   ]
  },
  {
   "cell_type": "code",
   "execution_count": 59,
   "metadata": {},
   "outputs": [
    {
     "name": "stdout",
     "output_type": "stream",
     "text": [
      "Hello Stanton Brian! How are you doing today?\n"
     ]
    }
   ],
   "source": [
    "say_hello_again(\"Stanton\", \"Brian\") # Position Matters!"
   ]
  },
  {
   "cell_type": "markdown",
   "metadata": {},
   "source": [
    "##### Passing in variables as arguments"
   ]
  },
  {
   "cell_type": "code",
   "execution_count": 60,
   "metadata": {},
   "outputs": [],
   "source": [
    "city1 = 'Boston'\n",
    "state1 = 'MA'\n",
    "zip_code1 = '02044'\n",
    "\n",
    "city2 = 'New York'\n",
    "state2 = 'NY'\n",
    "zip_code2 = '12345'\n",
    "\n"
   ]
  },
  {
   "cell_type": "code",
   "execution_count": 61,
   "metadata": {},
   "outputs": [],
   "source": [
    "# Function to format an address -> City, State -- Zip Code\n",
    "def format_address(city_name, state_code, zip_code):\n",
    "    print(f\"{city_name}, {state_code} -- {zip_code}\")\n"
   ]
  },
  {
   "cell_type": "code",
   "execution_count": 62,
   "metadata": {},
   "outputs": [
    {
     "name": "stdout",
     "output_type": "stream",
     "text": [
      "Chicago, IL -- 60606\n",
      "Boston, MA -- 02044\n"
     ]
    }
   ],
   "source": [
    "format_address('Chicago', 'IL', '60606')\n",
    "format_address(city1, state1, zip_code1)"
   ]
  },
  {
   "cell_type": "markdown",
   "metadata": {},
   "source": [
    "##### Keyword Arguments"
   ]
  },
  {
   "cell_type": "code",
   "execution_count": 65,
   "metadata": {},
   "outputs": [],
   "source": [
    "def make_a_payment(total_amount_due, amount_paid, account_number):\n",
    "    new_total = total_amount_due - amount_paid\n",
    "    print(f\"You have a made a payment of ${amount_paid} to Account #{account_number}\")\n",
    "    print(f\"Your new balance due is ${new_total}\")\n",
    "    print(\"Thank you for your payment\")"
   ]
  },
  {
   "cell_type": "code",
   "execution_count": 66,
   "metadata": {},
   "outputs": [
    {
     "name": "stdout",
     "output_type": "stream",
     "text": [
      "You have a made a payment of $100 to Account #349834793\n",
      "Your new balance due is $900\n",
      "Thank you for your payment\n"
     ]
    }
   ],
   "source": [
    "make_a_payment(1000, 100, '349834793')"
   ]
  },
  {
   "cell_type": "code",
   "execution_count": 69,
   "metadata": {},
   "outputs": [
    {
     "name": "stdout",
     "output_type": "stream",
     "text": [
      "You have a made a payment of $300 to Account #2343253\n",
      "Your new balance due is $2700\n",
      "Thank you for your payment\n"
     ]
    }
   ],
   "source": [
    "# function_name(param_name=arg_value, etc.)\n",
    "\n",
    "make_a_payment(account_number='2343253', amount_paid=300, total_amount_due=3000)"
   ]
  },
  {
   "cell_type": "code",
   "execution_count": 70,
   "metadata": {
    "scrolled": true
   },
   "outputs": [
    {
     "name": "stdout",
     "output_type": "stream",
     "text": [
      "You have a made a payment of $500 to Account #3234549\n",
      "Your new balance due is $4500\n",
      "Thank you for your payment\n"
     ]
    }
   ],
   "source": [
    "make_a_payment(5000, account_number='3234549', amount_paid=500)"
   ]
  },
  {
   "cell_type": "code",
   "execution_count": 72,
   "metadata": {},
   "outputs": [],
   "source": [
    "# positional arguments MUST COME BEFORE any keyword arguments\n",
    "\n",
    "# make_a_payment(account_number='334435436', 500, 50) # SyntaxError!"
   ]
  },
  {
   "cell_type": "markdown",
   "metadata": {},
   "source": [
    "##### Default Parameters"
   ]
  },
  {
   "cell_type": "code",
   "execution_count": 75,
   "metadata": {},
   "outputs": [],
   "source": [
    "# default parameter need to be AFTER non-default at all times\n",
    "\n",
    "def make_a_burger(customer_name, cheese=True, lettuce=True, tomato=True, onions=None, bacon=None):\n",
    "    total_price = 4.50\n",
    "    receipt = f\"Thank you {customer_name}. Here is your receipt:\\n\"\n",
    "    receipt += \"1 Hamburger\\n\"\n",
    "    if cheese:\n",
    "        receipt += '\\twith cheese\\n'\n",
    "    if lettuce:\n",
    "        receipt += '\\twith lettuce\\n'\n",
    "    if tomato:\n",
    "        receipt += '\\twith tomato\\n'\n",
    "    if onions:\n",
    "        receipt += f'\\twith {onions} onions\\n'\n",
    "    if bacon:\n",
    "        receipt += f'\\twith {bacon} pieces of bacon\\n'\n",
    "        total_price += .75*bacon\n",
    "    receipt += f\"Total: ${total_price:.2f}\"\n",
    "    print(receipt)"
   ]
  },
  {
   "cell_type": "code",
   "execution_count": 77,
   "metadata": {},
   "outputs": [
    {
     "name": "stdout",
     "output_type": "stream",
     "text": [
      "Thank you Brian. Here is your receipt:\n",
      "1 Hamburger\n",
      "\twith cheese\n",
      "\twith lettuce\n",
      "\twith tomato\n",
      "Total: $4.50\n"
     ]
    }
   ],
   "source": [
    "make_a_burger('Brian')"
   ]
  },
  {
   "cell_type": "code",
   "execution_count": 78,
   "metadata": {},
   "outputs": [
    {
     "name": "stdout",
     "output_type": "stream",
     "text": [
      "Thank you Dan. Here is your receipt:\n",
      "1 Hamburger\n",
      "\twith lettuce\n",
      "\twith tomato\n",
      "Total: $4.50\n"
     ]
    }
   ],
   "source": [
    "make_a_burger('Dan', False)"
   ]
  },
  {
   "cell_type": "code",
   "execution_count": 79,
   "metadata": {},
   "outputs": [
    {
     "name": "stdout",
     "output_type": "stream",
     "text": [
      "Thank you Holly. Here is your receipt:\n",
      "1 Hamburger\n",
      "\twith cheese\n",
      "\twith lettuce\n",
      "\twith tomato\n",
      "\twith 2 pieces of bacon\n",
      "Total: $6.00\n"
     ]
    }
   ],
   "source": [
    "make_a_burger('Holly', True, True, True, None, 2)"
   ]
  },
  {
   "cell_type": "code",
   "execution_count": 90,
   "metadata": {
    "scrolled": true
   },
   "outputs": [
    {
     "name": "stdout",
     "output_type": "stream",
     "text": [
      "Thank you Kevin. Here is your receipt:\n",
      "1 Hamburger\n",
      "\twith cheese\n",
      "\twith lettuce\n",
      "\twith tomato\n",
      "\twith grilled onions\n",
      "\twith 5 pieces of bacon\n",
      "Total: $8.25\n"
     ]
    }
   ],
   "source": [
    "make_a_burger('Kevin', bacon=5, onions='grilled')"
   ]
  },
  {
   "cell_type": "markdown",
   "metadata": {},
   "source": [
    "##### \\*args and **kwargs"
   ]
  },
  {
   "cell_type": "code",
   "execution_count": null,
   "metadata": {},
   "outputs": [],
   "source": []
  },
  {
   "cell_type": "code",
   "execution_count": null,
   "metadata": {
    "scrolled": true
   },
   "outputs": [],
   "source": []
  },
  {
   "cell_type": "code",
   "execution_count": null,
   "metadata": {},
   "outputs": [],
   "source": []
  },
  {
   "cell_type": "markdown",
   "metadata": {},
   "source": [
    "#### In Class Exercise 1"
   ]
  },
  {
   "cell_type": "markdown",
   "metadata": {},
   "source": [
    "Create a function that takes in a color, make, and model and formats it into a string.<br>\n",
    "Then loop over the cars list and apply the function to each element.<br>\n",
    "Expected Output:<br>\n",
    "<code>Blue Toyota Tundra\n",
    "Green Chevy Silverado\n",
    "Pink Ford F-150</code>\n"
   ]
  },
  {
   "cell_type": "code",
   "execution_count": null,
   "metadata": {},
   "outputs": [],
   "source": []
  },
  {
   "cell_type": "code",
   "execution_count": null,
   "metadata": {},
   "outputs": [],
   "source": []
  },
  {
   "cell_type": "code",
   "execution_count": null,
   "metadata": {},
   "outputs": [],
   "source": []
  },
  {
   "cell_type": "code",
   "execution_count": null,
   "metadata": {},
   "outputs": [],
   "source": []
  },
  {
   "cell_type": "code",
   "execution_count": null,
   "metadata": {},
   "outputs": [],
   "source": []
  },
  {
   "cell_type": "code",
   "execution_count": null,
   "metadata": {},
   "outputs": [],
   "source": []
  },
  {
   "cell_type": "markdown",
   "metadata": {},
   "source": [
    "## Scope <br>\n",
    "<p>Scope refers to the ability to access variables, different types of scope include:<br>a) Global<br>b) Function (local)<br>c) Class (local)</p>"
   ]
  },
  {
   "cell_type": "code",
   "execution_count": null,
   "metadata": {},
   "outputs": [],
   "source": []
  },
  {
   "cell_type": "code",
   "execution_count": null,
   "metadata": {},
   "outputs": [],
   "source": []
  },
  {
   "cell_type": "code",
   "execution_count": null,
   "metadata": {},
   "outputs": [],
   "source": []
  },
  {
   "cell_type": "markdown",
   "metadata": {},
   "source": [
    "##### Returning Values"
   ]
  },
  {
   "cell_type": "code",
   "execution_count": null,
   "metadata": {},
   "outputs": [],
   "source": [
    "# Mathematical Function - y = f(x)\n",
    "# Where f is the function, x is the input(s), and y is the dependent variable (or the return variable)\n"
   ]
  },
  {
   "cell_type": "code",
   "execution_count": null,
   "metadata": {},
   "outputs": [],
   "source": []
  },
  {
   "cell_type": "code",
   "execution_count": null,
   "metadata": {},
   "outputs": [],
   "source": []
  },
  {
   "cell_type": "code",
   "execution_count": null,
   "metadata": {
    "scrolled": true
   },
   "outputs": [],
   "source": [
    "# Return will also immediately terminate the function\n"
   ]
  },
  {
   "cell_type": "code",
   "execution_count": null,
   "metadata": {},
   "outputs": [],
   "source": []
  },
  {
   "cell_type": "markdown",
   "metadata": {},
   "source": [
    "#### Multiple returns in a function"
   ]
  },
  {
   "cell_type": "code",
   "execution_count": null,
   "metadata": {},
   "outputs": [],
   "source": []
  },
  {
   "cell_type": "markdown",
   "metadata": {},
   "source": [
    "##### Difference between `return` and `print`"
   ]
  },
  {
   "cell_type": "code",
   "execution_count": null,
   "metadata": {},
   "outputs": [],
   "source": []
  },
  {
   "cell_type": "code",
   "execution_count": null,
   "metadata": {},
   "outputs": [],
   "source": []
  },
  {
   "cell_type": "code",
   "execution_count": null,
   "metadata": {},
   "outputs": [],
   "source": []
  },
  {
   "cell_type": "markdown",
   "metadata": {},
   "source": [
    "#### Functions with Lists"
   ]
  },
  {
   "cell_type": "code",
   "execution_count": null,
   "metadata": {},
   "outputs": [],
   "source": []
  },
  {
   "cell_type": "code",
   "execution_count": null,
   "metadata": {},
   "outputs": [],
   "source": []
  },
  {
   "cell_type": "code",
   "execution_count": null,
   "metadata": {},
   "outputs": [],
   "source": []
  },
  {
   "cell_type": "markdown",
   "metadata": {},
   "source": [
    "#### In-Class Exercise 2"
   ]
  },
  {
   "cell_type": "markdown",
   "metadata": {},
   "source": [
    "Create a function that takes in the list of tuples ('city', 'country') and a country name and returns a list of the cities in that country"
   ]
  },
  {
   "cell_type": "code",
   "execution_count": null,
   "metadata": {},
   "outputs": [],
   "source": [
    "cities = [\n",
    "    (\"London\", \"England\"), \n",
    "    (\"Manchester\", \"England\"), \n",
    "    (\"Barcelona\", \"Spain\"), \n",
    "    (\"Madrid\", \"Spain\"), \n",
    "    (\"Rome\", \"Italy\"), \n",
    "    (\"Florence\", \"Italy\")\n",
    "]\n"
   ]
  },
  {
   "cell_type": "code",
   "execution_count": null,
   "metadata": {},
   "outputs": [],
   "source": []
  },
  {
   "cell_type": "code",
   "execution_count": null,
   "metadata": {},
   "outputs": [],
   "source": []
  },
  {
   "cell_type": "code",
   "execution_count": null,
   "metadata": {},
   "outputs": [],
   "source": []
  },
  {
   "cell_type": "markdown",
   "metadata": {},
   "source": [
    "#### Docstrings"
   ]
  },
  {
   "cell_type": "code",
   "execution_count": null,
   "metadata": {},
   "outputs": [],
   "source": []
  },
  {
   "cell_type": "code",
   "execution_count": null,
   "metadata": {},
   "outputs": [],
   "source": []
  },
  {
   "cell_type": "code",
   "execution_count": null,
   "metadata": {},
   "outputs": [],
   "source": []
  }
 ],
 "metadata": {
  "kernelspec": {
   "display_name": "Python 3 (ipykernel)",
   "language": "python",
   "name": "python3"
  },
  "language_info": {
   "codemirror_mode": {
    "name": "ipython",
    "version": 3
   },
   "file_extension": ".py",
   "mimetype": "text/x-python",
   "name": "python",
   "nbconvert_exporter": "python",
   "pygments_lexer": "ipython3",
   "version": "3.10.9"
  }
 },
 "nbformat": 4,
 "nbformat_minor": 2
}
